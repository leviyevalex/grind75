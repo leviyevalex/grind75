{
 "cells": [
  {
   "cell_type": "markdown",
   "metadata": {},
   "source": [
    "A phrase is a palindrome if, after converting all uppercase letters into lowercase letters and removing all non-alphanumeric characters, it reads the same forward and backward. Alphanumeric characters include letters and numbers.\n",
    "\n",
    "Given a string s, return true if it is a palindrome, or false otherwise.\n",
    "\n",
    " \n",
    "\n",
    "Example 1:\n",
    "\n",
    "Input: s = \"A man, a plan, a canal: Panama\"\n",
    "Output: true\n",
    "Explanation: \"amanaplanacanalpanama\" is a palindrome.\n",
    "Example 2:\n",
    "\n",
    "Input: s = \"race a car\"\n",
    "Output: false\n",
    "Explanation: \"raceacar\" is not a palindrome.\n",
    "Example 3:\n",
    "\n",
    "Input: s = \" \"\n",
    "Output: true\n",
    "Explanation: s is an empty string \"\" after removing non-alphanumeric characters.\n",
    "Since an empty string reads the same forward and backward, it is a palindrome.\n",
    " \n",
    "\n",
    "Constraints:\n",
    "\n",
    "1 <= s.length <= 2 * 105\n",
    "s consists only of printable ASCII characters."
   ]
  },
  {
   "cell_type": "code",
   "execution_count": null,
   "metadata": {},
   "outputs": [],
   "source": [
    "# O(n) time\n",
    "# O(n) memory\n",
    "\n",
    "class Solution(object):\n",
    "    def isPalindrome(self, s):\n",
    "        \"\"\"\n",
    "        :type s: str\n",
    "        :rtype: bool\n",
    "        \"\"\"\n",
    "        \n",
    "        deque = collections.deque()\n",
    "\n",
    "        # Preprocess\n",
    "        for char in s:\n",
    "            if char.isalpha():\n",
    "                deque.append(char.lower())\n",
    "            elif char.isdigit():\n",
    "                deque.append(char)\n",
    "\n",
    "        # Corner cases NOTE: Turns out this isn't needed! Defensive programming though\n",
    "        if len(deque) <= 1:\n",
    "            return True\n",
    "\n",
    "        # Logic\n",
    "        num_iterations = int(math.floor((len(deque) / 2)))\n",
    "        for i in range(num_iterations):\n",
    "            if deque.pop() != deque.popleft():\n",
    "                return False\n",
    "\n",
    "        return True\n",
    "    \n",
    "\"\"\" \n",
    "NOTES\n",
    "-----\n",
    "\n",
    "- `char.lower` converts character to lower\n",
    "- `char.isalpha()` checks if its a character\n",
    "- `.isdigit()` checks if its an integer\n",
    "\n",
    "\n",
    "\"\"\""
   ]
  }
 ],
 "metadata": {
  "kernelspec": {
   "display_name": "myenv",
   "language": "python",
   "name": "python3"
  },
  "language_info": {
   "codemirror_mode": {
    "name": "ipython",
    "version": 3
   },
   "file_extension": ".py",
   "mimetype": "text/x-python",
   "name": "python",
   "nbconvert_exporter": "python",
   "pygments_lexer": "ipython3",
   "version": "3.11.5"
  }
 },
 "nbformat": 4,
 "nbformat_minor": 2
}
