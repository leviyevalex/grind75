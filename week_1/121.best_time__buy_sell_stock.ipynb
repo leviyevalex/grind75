{
 "cells": [
  {
   "cell_type": "markdown",
   "metadata": {},
   "source": [
    "You are given an array prices where prices[i] is the price of a given stock on the ith day.\n",
    "\n",
    "You want to maximize your profit by choosing a single day to buy one stock and choosing a different day in the future to sell that stock.\n",
    "\n",
    "Return the maximum profit you can achieve from this transaction. If you cannot achieve any profit, return 0.\n",
    "\n",
    " \n",
    "\n",
    "Example 1:\n",
    "\n",
    "Input: prices = [7,1,5,3,6,4]\n",
    "Output: 5\n",
    "Explanation: Buy on day 2 (price = 1) and sell on day 5 (price = 6), profit = 6-1 = 5.\n",
    "Note that buying on day 2 and selling on day 1 is not allowed because you must buy before you sell.\n",
    "Example 2:\n",
    "\n",
    "Input: prices = [7,6,4,3,1]\n",
    "Output: 0\n",
    "Explanation: In this case, no transactions are done and the max profit = 0.\n",
    " \n",
    "\n",
    "Constraints:\n",
    "\n",
    "1 <= prices.length <= 105\n",
    "0 <= prices[i] <= 104"
   ]
  },
  {
   "cell_type": "code",
   "execution_count": null,
   "metadata": {},
   "outputs": [],
   "source": [
    "# O(n^2) complexity\n",
    "# O(1) memory\n",
    "class Solution(object):\n",
    "    def maxProfit(self, prices):\n",
    "        \"\"\"\n",
    "        :type prices: List[int]\n",
    "        :rtype: int\n",
    "        \"\"\"\n",
    "        max_profit = 0\n",
    "        for i in range(prices):\n",
    "            for j in range(prices):\n",
    "                if j > i:\n",
    "                    max_profit = max(max_profit, prices[j] - prices[i])\n",
    "        return max_profit"
   ]
  },
  {
   "cell_type": "code",
   "execution_count": null,
   "metadata": {},
   "outputs": [],
   "source": [
    "# O(n) complexity\n",
    "# O(1) space\n",
    "\n",
    "\"\"\" \n",
    "Explanation\n",
    "-----------\n",
    "\n",
    "We make a buy date, sell date, maximum possible profit table to organize the data in the example.\n",
    "This can be done by going backwards from the prices list\n",
    "We then see that the relevent quantities we would like to calculate in the table can be done in a single loop.\n",
    "Specifically, we keep track of the best buy date, and maximum possible profit.\n",
    "\n",
    "\"\"\"\n",
    "\n",
    "\n",
    "class Solution(object):\n",
    "    def maxProfit(self, prices):\n",
    "        \"\"\"\n",
    "        :type prices: List[int]\n",
    "        :rtype: int\n",
    "        \"\"\"\n",
    "        \n",
    "        max_profit = -float('inf')\n",
    "        min_price = float('inf')\n",
    "        \n",
    "        for price in prices:\n",
    "            profit = price - min_price\n",
    "            max_profit = max(profit, max_profit)\n",
    "            min_price = min(price, min_price)\n",
    "\n",
    "        if max_profit > 0:\n",
    "            return max_profit\n",
    "        else:\n",
    "            return 0"
   ]
  },
  {
   "cell_type": "code",
   "execution_count": null,
   "metadata": {},
   "outputs": [],
   "source": []
  }
 ],
 "metadata": {
  "kernelspec": {
   "display_name": "myenv",
   "language": "python",
   "name": "python3"
  },
  "language_info": {
   "codemirror_mode": {
    "name": "ipython",
    "version": 3
   },
   "file_extension": ".py",
   "mimetype": "text/x-python",
   "name": "python",
   "nbconvert_exporter": "python",
   "pygments_lexer": "ipython3",
   "version": "3.11.5"
  }
 },
 "nbformat": 4,
 "nbformat_minor": 2
}
