{
 "cells": [
  {
   "cell_type": "code",
   "execution_count": null,
   "metadata": {},
   "outputs": [],
   "source": [
    "class Solution(object):\n",
    "    def search(self, nums, target):\n",
    "        \"\"\"\n",
    "        :type nums: List[int]\n",
    "        :type target: int\n",
    "        :rtype: int\n",
    "        \"\"\"\n",
    "        low = 0\n",
    "        high = len(nums) - 1\n",
    "        while low < high:\n",
    "            mid = low + (high - low) // 2\n",
    "            if nums[mid] < target:\n",
    "                low = mid + 1\n",
    "            else:\n",
    "                high = mid\n",
    "\n",
    "        if nums[low] != target:\n",
    "            return -1\n",
    "        else:\n",
    "            return low\n",
    "\n",
    "\"\"\" \n",
    "Notes\n",
    "-----\n",
    "\n",
    "(1) - Gives first index that can be overwritten with target and preserve sorted order\n",
    "(2) - Elegently uses two pointers\n",
    "(3) - the `mid + 1` update to low is s.t the two pointers can hit the same spot\n",
    "(4) - Use `\\\\` for floor division\n",
    "\n",
    "\"\"\"\n"
   ]
  }
 ],
 "metadata": {
  "language_info": {
   "name": "python"
  }
 },
 "nbformat": 4,
 "nbformat_minor": 2
}
