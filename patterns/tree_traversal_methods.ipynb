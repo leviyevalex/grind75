{
 "cells": [
  {
   "cell_type": "code",
   "execution_count": null,
   "metadata": {},
   "outputs": [],
   "source": [
    "from collections import deque"
   ]
  },
  {
   "cell_type": "markdown",
   "metadata": {},
   "source": [
    "# Traversal algorithms"
   ]
  },
  {
   "cell_type": "code",
   "execution_count": 3,
   "metadata": {},
   "outputs": [],
   "source": [
    "class TreeNode:\n",
    "    def __init__(self, val=0, left=None, right=None):\n",
    "        self.val = val\n",
    "        self.left = left\n",
    "        self.right = right"
   ]
  },
  {
   "cell_type": "code",
   "execution_count": 4,
   "metadata": {},
   "outputs": [],
   "source": [
    "# Tree Structure:\n",
    "#        10\n",
    "#      /   \\\n",
    "#    11     12\n",
    "#   / \\     / \\\n",
    "#  13  14  15  16\n",
    "\n",
    "root = TreeNode(10)\n",
    "root.left = TreeNode(11)\n",
    "root.right = TreeNode(12)\n",
    "root.left.left = TreeNode(13)\n",
    "root.left.right = TreeNode(14)\n",
    "root.right.left = TreeNode(15)\n",
    "# root.right.right = TreeNode(16)"
   ]
  },
  {
   "cell_type": "markdown",
   "metadata": {},
   "source": [
    "# Depth first search on binary trees"
   ]
  },
  {
   "cell_type": "markdown",
   "metadata": {},
   "source": [
    "### Recursive implementations of DFS on binary tree\n",
    "\n",
    "DFS on binary trees come in three flavors. \n",
    "\n",
    "(1) Pre-order\n",
    "\n",
    "(2) In-order\n",
    "\n",
    "(3) Post-order\n",
    "\n",
    "We provide the recursive implementations of these in the following.\n",
    "\n",
    "NOTE: Although the implementation is clean, it uses the call-stack implicitly and python has a recursion limit. The iterative version is more explicit and therefore clearer, and works for large trees. "
   ]
  },
  {
   "cell_type": "code",
   "execution_count": 5,
   "metadata": {},
   "outputs": [
    {
     "name": "stdout",
     "output_type": "stream",
     "text": [
      "---\n",
      "10\n",
      "11\n",
      "13\n",
      "14\n",
      "12\n",
      "15\n",
      "---\n",
      "13\n",
      "11\n",
      "14\n",
      "10\n",
      "15\n",
      "12\n",
      "---\n",
      "13\n",
      "14\n",
      "11\n",
      "15\n",
      "12\n",
      "10\n",
      "---\n"
     ]
    }
   ],
   "source": [
    "def dfs_pre(node):\n",
    "    if not node:\n",
    "        return\n",
    "    print(node.val)\n",
    "    dfs_pre(node.left)\n",
    "    dfs_pre(node.right)\n",
    "\n",
    "def dfs_in(node):\n",
    "    if not node:\n",
    "        return\n",
    "    dfs_in(node.left)\n",
    "    print(node.val)\n",
    "    dfs_in(node.right)\n",
    "\n",
    "def dfs_post(node):\n",
    "    if not node:\n",
    "        return\n",
    "    dfs_post(node.left)\n",
    "    dfs_post(node.right)\n",
    "    print(node.val)\n",
    "\n",
    "print('---')\n",
    "dfs_pre(root)\n",
    "print('---')\n",
    "dfs_in(root)\n",
    "print('---')\n",
    "dfs_post(root)\n",
    "print('---')"
   ]
  },
  {
   "cell_type": "markdown",
   "metadata": {},
   "source": [
    "### Iterative DFS on tree"
   ]
  },
  {
   "cell_type": "code",
   "execution_count": 6,
   "metadata": {},
   "outputs": [
    {
     "name": "stdout",
     "output_type": "stream",
     "text": [
      "10\n",
      "11\n",
      "13\n",
      "14\n",
      "12\n",
      "15\n"
     ]
    }
   ],
   "source": [
    "def preorder_iterative(root):\n",
    "    if not root:\n",
    "        return\n",
    "    \n",
    "    stack = [root]    \n",
    "    while stack:\n",
    "        node = stack.pop() \n",
    "        print(node.val) # Process the root\n",
    "        if node.right:\n",
    "            stack.append(node.right)\n",
    "        if node.left:\n",
    "            stack.append(node.left)\n",
    "\n",
    "preorder_iterative(root)"
   ]
  },
  {
   "cell_type": "code",
   "execution_count": 9,
   "metadata": {},
   "outputs": [
    {
     "name": "stdout",
     "output_type": "stream",
     "text": [
      "13\n",
      "11\n",
      "14\n",
      "10\n",
      "15\n",
      "12\n"
     ]
    }
   ],
   "source": [
    "def inorder_iterative(root):\n",
    "    if not root:\n",
    "        return\n",
    "\n",
    "    stack = []\n",
    "    node = root \n",
    "    while stack or node:\n",
    "        while node:\n",
    "            stack.append(node)\n",
    "            node = node.left\n",
    "        node = stack.pop()\n",
    "        print(node.val) # Process node\n",
    "        node = node.right\n",
    "\n",
    "inorder_iterative(root)"
   ]
  },
  {
   "cell_type": "code",
   "execution_count": 10,
   "metadata": {},
   "outputs": [
    {
     "name": "stdout",
     "output_type": "stream",
     "text": [
      "13\n",
      "14\n",
      "11\n",
      "15\n",
      "12\n",
      "10\n"
     ]
    }
   ],
   "source": [
    "def postorder_iterative(root):\n",
    "    stack = [(root, False)]\n",
    "\n",
    "    while stack:\n",
    "        node, visited = stack.pop()\n",
    "        if node:\n",
    "            if visited:\n",
    "                print(node.val) # Process here\n",
    "            else:\n",
    "                stack.append((node, True))\n",
    "                stack.append((node.right, False))\n",
    "                stack.append((node.left, False))\n",
    "\n",
    "postorder_iterative(root)"
   ]
  },
  {
   "cell_type": "markdown",
   "metadata": {},
   "source": [
    "### Iterative implementation of BFS on binary tree\n",
    "\n",
    "NOTE: This is identical to DFS, however we exchange the stack for a queue and flip the order we append the nodes in (Because stack is FILO and we want to process the left node first)"
   ]
  },
  {
   "cell_type": "code",
   "execution_count": null,
   "metadata": {},
   "outputs": [],
   "source": [
    "def bfs_tree(root):\n",
    "    queue = deque([root])\n",
    "    while queue:\n",
    "        node = queue.popleft()\n",
    "        print(node.val)\n",
    "\n",
    "        if node.left:\n",
    "            queue.append(node.left)\n",
    "\n",
    "        if node.right:\n",
    "            queue.append(node.right)\n",
    "\n",
    "bfs_tree(root)"
   ]
  }
 ],
 "metadata": {
  "kernelspec": {
   "display_name": "myenv",
   "language": "python",
   "name": "python3"
  },
  "language_info": {
   "codemirror_mode": {
    "name": "ipython",
    "version": 3
   },
   "file_extension": ".py",
   "mimetype": "text/x-python",
   "name": "python",
   "nbconvert_exporter": "python",
   "pygments_lexer": "ipython3",
   "version": "3.11.5"
  }
 },
 "nbformat": 4,
 "nbformat_minor": 2
}
